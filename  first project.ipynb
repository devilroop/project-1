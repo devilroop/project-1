{
 "cells": [
  {
   "cell_type": "code",
   "execution_count": 87,
   "metadata": {},
   "outputs": [
    {
     "name": "stdout",
     "output_type": "stream",
     "text": [
      " *** \n",
      "*   *\n",
      "*   *\n",
      "*****\n",
      "*   *\n",
      "*   *\n"
     ]
    }
   ],
   "source": [
    "#print A pattern in  \"*\"\n",
    "for row in range(6):\n",
    "    for col in range (5):\n",
    "        if ((col==0 or col==4) and row!=0) or (row==0 or row==3) and (col>0 and col<4):\n",
    "            print(\"*\",end=\"\")\n",
    "        else:\n",
    "            print(end=\" \")\n",
    "    print()"
   ]
  },
  {
   "cell_type": "code",
   "execution_count": 103,
   "metadata": {},
   "outputs": [
    {
     "name": "stdout",
     "output_type": "stream",
     "text": [
      "****** \n",
      "*     *\n",
      "*     *\n",
      "****** \n",
      "*     *\n",
      "*     *\n",
      "****** \n"
     ]
    }
   ],
   "source": [
    "#print B pattern in  \"*\"\n",
    "for row in range (7):\n",
    "    for col in range(7):\n",
    "        if (col==0 or (col==6 and row!=0 and row!=3 and row!=6)) or ((row==0 and col!=6) or (row==3 and col<6) or (row==6 and col!=6)) :\n",
    "            print(\"*\",end=\"\")\n",
    "        else:\n",
    "            print(end=\" \")\n",
    "    print()"
   ]
  },
  {
   "cell_type": "code",
   "execution_count": 104,
   "metadata": {},
   "outputs": [
    {
     "name": "stdout",
     "output_type": "stream",
     "text": [
      " ****\n",
      "*    \n",
      "*    \n",
      "*    \n",
      "*    \n",
      " ****\n"
     ]
    }
   ],
   "source": [
    "#print c pattern in  \"*\"\n",
    "for row in range (6):\n",
    "    for col in range(5):\n",
    "        if ((col==0 and row!=0 and row!=5) or col==5) or ((row==0 and col!=0) or (row==5 and col!=0)):\n",
    "            print(\"*\",end=\"\")\n",
    "        else:\n",
    "            print(end=\" \")\n",
    "    print()"
   ]
  },
  {
   "cell_type": "code",
   "execution_count": 117,
   "metadata": {},
   "outputs": [
    {
     "name": "stdout",
     "output_type": "stream",
     "text": [
      "****** \n",
      "*     *\n",
      "*     *\n",
      "*     *\n",
      "*     *\n",
      "*     *\n",
      "****** \n"
     ]
    }
   ],
   "source": [
    "#print D pattern in  \"*\"\n",
    "for row in range (7):\n",
    "    for col in range(7):\n",
    "        if (col==0 or (col==6 and row!=0  and row!=6)) or ((row==0 and col!=6)  or (row==6 and col!=6)) :\n",
    "            print(\"*\",end=\"\")\n",
    "        else:\n",
    "            print(end=\" \")\n",
    "    print()"
   ]
  },
  {
   "cell_type": "code",
   "execution_count": 110,
   "metadata": {},
   "outputs": [
    {
     "name": "stdout",
     "output_type": "stream",
     "text": [
      "*******\n",
      "*      \n",
      "*      \n",
      "*******\n",
      "*      \n",
      "*      \n",
      "*******\n"
     ]
    }
   ],
   "source": [
    "#print E pattern in  \"*\"\n",
    "for row in range (7):\n",
    "    for col in range(7):\n",
    "        if col==0 or row==0 or row==3 or row==6 :\n",
    "            print(\"*\",end=\"\")\n",
    "        else:\n",
    "            print(end=\" \")\n",
    "    print()"
   ]
  },
  {
   "cell_type": "code",
   "execution_count": 114,
   "metadata": {},
   "outputs": [
    {
     "name": "stdout",
     "output_type": "stream",
     "text": [
      "*******\n",
      "*      \n",
      "*      \n",
      "*******\n",
      "*      \n",
      "*      \n",
      "*      \n"
     ]
    }
   ],
   "source": [
    "#print F pattern in  \"*\"\n",
    "for row in range (7):\n",
    "    for col in range(7):\n",
    "        if col==0 or row==0 or row==3  :\n",
    "            print(\"*\",end=\"\")\n",
    "        else:\n",
    "            print(end=\" \")\n",
    "    print()"
   ]
  },
  {
   "cell_type": "code",
   "execution_count": 127,
   "metadata": {},
   "outputs": [
    {
     "name": "stdout",
     "output_type": "stream",
     "text": [
      " *******  \n",
      "*         \n",
      "*         \n",
      "*         \n",
      "*         \n",
      "*    *****\n",
      " *****   *\n",
      "         *\n",
      "         *\n"
     ]
    }
   ],
   "source": [
    "#print G pattern in  \"*\"\n",
    "for row in range (9):\n",
    "    for col in range(10):\n",
    "        if (col==0 and row!=0 and row!=6 and row!=7 and row!=8) or (row==0 and col!=0 and col<8) or (row==6 and col!=0 and col!=6 and col<7)  or (row==5 and col>4 ) or (col==9 and row>5)  :\n",
    "            print(\"*\",end=\"\")\n",
    "        else:\n",
    "            print(end=\" \")\n",
    "    print()"
   ]
  },
  {
   "cell_type": "code",
   "execution_count": 128,
   "metadata": {},
   "outputs": [
    {
     "name": "stdout",
     "output_type": "stream",
     "text": [
      "*     *\n",
      "*     *\n",
      "*     *\n",
      "*******\n",
      "*     *\n",
      "*     *\n",
      "*     *\n"
     ]
    }
   ],
   "source": [
    "#print H pattern in  \"*\"\n",
    "for row in range (7):\n",
    "    for col in range(7):\n",
    "        if col==0 or col==6 or row==3  :\n",
    "            print(\"*\",end=\"\")\n",
    "        else:\n",
    "            print(end=\" \")\n",
    "    print()"
   ]
  },
  {
   "cell_type": "code",
   "execution_count": 129,
   "metadata": {},
   "outputs": [
    {
     "name": "stdout",
     "output_type": "stream",
     "text": [
      "*******\n",
      "   *   \n",
      "   *   \n",
      "   *   \n",
      "   *   \n",
      "   *   \n",
      "*******\n"
     ]
    }
   ],
   "source": [
    "#print I pattern in  \"*\"\n",
    "for row in range (7):\n",
    "    for col in range(7):\n",
    "        if row==0 or row==6 or col==3  :\n",
    "            print(\"*\",end=\"\")\n",
    "        else:\n",
    "            print(end=\" \")\n",
    "    print()"
   ]
  },
  {
   "cell_type": "code",
   "execution_count": 139,
   "metadata": {},
   "outputs": [
    {
     "name": "stdout",
     "output_type": "stream",
     "text": [
      "    ********\n",
      "         *  \n",
      "         *  \n",
      "         *  \n",
      "         *  \n",
      "         *  \n",
      "         *  \n",
      "*        *  \n",
      "*        *  \n",
      " *******    \n"
     ]
    }
   ],
   "source": [
    "#print J pattern in  \"*\"\n",
    "for row in range (10):\n",
    "    for col in range(12):\n",
    "        if (col==0 and row!=9 and row>6) or (col==9 and row!=9) or (row==9 and col!=0 and col<8 ) or (row==0 and col>3 ) :\n",
    "            print(\"*\",end=\"\")\n",
    "        else:\n",
    "            print(end=\" \")\n",
    "    print()"
   ]
  },
  {
   "cell_type": "code",
   "execution_count": 157,
   "metadata": {},
   "outputs": [
    {
     "name": "stdout",
     "output_type": "stream",
     "text": [
      "*       *\n",
      "*     *  \n",
      "*   *    \n",
      "* *      \n",
      "*        \n",
      "*  *     \n",
      "*   *    \n",
      "*    *   \n",
      "*     *  \n",
      "*      * \n",
      "*       *\n"
     ]
    }
   ],
   "source": [
    "#print K pattern in  \"*\"\n",
    "i=8\n",
    "for row in range (11):\n",
    "    for col in range(9):\n",
    "        if col==0 or (row==col+2 and col>1 and row>4)  :\n",
    "            print(\"*\",end=\"\")\n",
    "        elif row==i-col:\n",
    "            print(\"*\",end=\"\")\n",
    "            i=i-1\n",
    "        else:\n",
    "            print(end=\" \")\n",
    "    print()"
   ]
  },
  {
   "cell_type": "code",
   "execution_count": 160,
   "metadata": {},
   "outputs": [
    {
     "name": "stdout",
     "output_type": "stream",
     "text": [
      "*      \n",
      "*      \n",
      "*      \n",
      "*      \n",
      "*      \n",
      "*      \n",
      "*      \n",
      "*      \n",
      "*      \n",
      "*******\n"
     ]
    }
   ],
   "source": [
    "#print L pattern in  \"*\"\n",
    "i=8\n",
    "for row in range (10):\n",
    "    for col in range(7):\n",
    "        if col==0 or row==9   :\n",
    "            print(\"*\",end=\"\")\n",
    "        else:\n",
    "            print(end=\" \")\n",
    "    print()"
   ]
  },
  {
   "cell_type": "code",
   "execution_count": 168,
   "metadata": {},
   "outputs": [
    {
     "name": "stdout",
     "output_type": "stream",
     "text": [
      "*        *\n",
      "**      **\n",
      "* *   *  *\n",
      "*  **    *\n",
      "*        *\n",
      "*        *\n",
      "*        *\n"
     ]
    }
   ],
   "source": [
    "#print M pattern in  \"*\"\n",
    "i=9\n",
    "for row in range (7):\n",
    "    for col in range(10):\n",
    "        if col==0 or col==9 or (row==col and row <4) :\n",
    "            print(\"*\",end=\"\")\n",
    "        elif (row==i-col and row<4):\n",
    "            print(\"*\",end=\"\")\n",
    "            i=i-1\n",
    "        else:\n",
    "            print(end=\" \")\n",
    "    print()"
   ]
  },
  {
   "cell_type": "code",
   "execution_count": 172,
   "metadata": {},
   "outputs": [
    {
     "name": "stdout",
     "output_type": "stream",
     "text": [
      "*     *   \n",
      "**    *   \n",
      "* *   *   \n",
      "*  *  *   \n",
      "*   * *   \n",
      "*    **   \n",
      "*     *   \n"
     ]
    }
   ],
   "source": [
    "#print N pattern in  \"*\"\n",
    "for row in range (7):\n",
    "    for col in range(7):\n",
    "        if col==0 or col==6 or (row==col) :\n",
    "            print(\"*\",end=\"\")\n",
    "        else:\n",
    "            print(end=\" \")\n",
    "    print()"
   ]
  },
  {
   "cell_type": "code",
   "execution_count": 184,
   "metadata": {},
   "outputs": [
    {
     "name": "stdout",
     "output_type": "stream",
     "text": [
      " ***** \n",
      "*     *\n",
      "*     *\n",
      "*     *\n",
      "*     *\n",
      "*     *\n",
      " ***** \n"
     ]
    }
   ],
   "source": [
    "#print O pattern in  \"*\"\n",
    "for row in range (7):\n",
    "    for col in range(7):\n",
    "        if (col==0 and row>0 and row<6) or (col==6 and row>0 and row<6) or (row==0 and col!=0 and col!=6) or (row==6 and col!=0 and col!=6) : \n",
    "            print(\"*\",end=\"\")\n",
    "        else:\n",
    "            print(end=\" \")\n",
    "    print()"
   ]
  },
  {
   "cell_type": "code",
   "execution_count": 188,
   "metadata": {},
   "outputs": [
    {
     "name": "stdout",
     "output_type": "stream",
     "text": [
      " ***** \n",
      "*     *\n",
      "*     *\n",
      "* **** \n",
      "*      \n",
      "*      \n",
      "*      \n"
     ]
    }
   ],
   "source": [
    "#print P pattern in  \"*\"\n",
    "for row in range (7):\n",
    "    for col in range(7):\n",
    "        if col==0 and row!=0 or col==6 and row!=0 and row!=3 and row<4 or row==3 and col!=6 and col!=1 or row==0 and col!=0 and col!=6 :\n",
    "            print(\"*\",end=\"\")\n",
    "        else:\n",
    "            print(end=\" \")\n",
    "    print()"
   ]
  },
  {
   "cell_type": "code",
   "execution_count": 190,
   "metadata": {},
   "outputs": [
    {
     "name": "stdout",
     "output_type": "stream",
     "text": [
      " ***** \n",
      "*     *\n",
      "*     *\n",
      "*     *\n",
      "*     *\n",
      "*     *\n",
      " ***** \n",
      "     * \n",
      "      *\n"
     ]
    }
   ],
   "source": [
    "#print Q pattern in  \"*\"\n",
    "for row in range (9):\n",
    "    for col in range(7):\n",
    "        if (col==0 and row>0 and row<6) or (col==6 and row>0 and row<6) or (row==0 and col!=0 and col!=6) or (row==6 and col!=0 and col!=6) or row==7 and col==5 or row==8 and col==6 : \n",
    "            print(\"*\",end=\"\")\n",
    "        else:\n",
    "            print(end=\" \")\n",
    "    print()"
   ]
  },
  {
   "cell_type": "code",
   "execution_count": 193,
   "metadata": {},
   "outputs": [
    {
     "name": "stdout",
     "output_type": "stream",
     "text": [
      "****** \n",
      "*     *\n",
      "*     *\n",
      "****** \n",
      "*     *\n",
      "*     *\n",
      "*     *\n"
     ]
    }
   ],
   "source": [
    "#print R pattern in  \"*\"\n",
    "for row in range (7):\n",
    "    for col in range(7):\n",
    "        if col==0 or col==6 and row!=0 and row!=3 or row==0 and col!=6 or row==3 and col<6 :\n",
    "            print(\"*\",end=\"\")\n",
    "        else:\n",
    "            print(end=\" \")\n",
    "    print()"
   ]
  },
  {
   "cell_type": "code",
   "execution_count": 194,
   "metadata": {},
   "outputs": [
    {
     "name": "stdout",
     "output_type": "stream",
     "text": [
      " ***** \n",
      "*      \n",
      "*      \n",
      " ***** \n",
      "      *\n",
      "      *\n",
      " ***** \n"
     ]
    }
   ],
   "source": [
    "#print V pattern in  \"*\"\n",
    "for row in range (7):\n",
    "    for col in range(7):\n",
    "        if col==0 and  row!=0 and row<3 or col==6 and row!=6 and row>3 or row==0 and col!=0 and col!=6 or row==3 and col!=0 and col!=6 or row==6 and col!=0 and col!=6 :\n",
    "            print(\"*\",end=\"\")\n",
    "        else:\n",
    "            print(end=\" \")\n",
    "    print()"
   ]
  },
  {
   "cell_type": "code",
   "execution_count": 195,
   "metadata": {},
   "outputs": [
    {
     "name": "stdout",
     "output_type": "stream",
     "text": [
      "*******\n",
      "   *   \n",
      "   *   \n",
      "   *   \n",
      "   *   \n",
      "   *   \n",
      "   *   \n"
     ]
    }
   ],
   "source": [
    "#print T pattern in  \"*\"\n",
    "for row in range (7):\n",
    "    for col in range(7):\n",
    "        if col==3 or row==0  :\n",
    "            print(\"*\",end=\"\")\n",
    "        else:\n",
    "            print(end=\" \")\n",
    "    print()"
   ]
  },
  {
   "cell_type": "code",
   "execution_count": 200,
   "metadata": {},
   "outputs": [
    {
     "name": "stdout",
     "output_type": "stream",
     "text": [
      "       \n",
      "*     *\n",
      "*     *\n",
      "*     *\n",
      "*     *\n",
      "*     *\n",
      " ***** \n"
     ]
    }
   ],
   "source": [
    "#print U pattern in  \"*\"\n",
    "for row in range (7):\n",
    "    for col in range(7):\n",
    "        if col==0 and row!=0 and row!=6  or col==6 and row!=6 and row!=0 or row==6 and col!=0 and col!=6 :\n",
    "            print(\"*\",end=\"\")\n",
    "        else:\n",
    "            print(end=\" \")\n",
    "    print()"
   ]
  },
  {
   "cell_type": "code",
   "execution_count": 210,
   "metadata": {},
   "outputs": [
    {
     "name": "stdout",
     "output_type": "stream",
     "text": [
      "*           *\n",
      " *         * \n",
      "  *       *  \n",
      "   *     *   \n",
      "    *   *    \n",
      "     * *     \n",
      "      *      \n"
     ]
    }
   ],
   "source": [
    "#print V pattern in  \"*\"\n",
    "i=0\n",
    "j=12\n",
    "for row in range (7):\n",
    "    for col in range(13):\n",
    "        if (row==col):\n",
    "            print(\"*\",end=\"\")\n",
    "        elif row==i and col==j:\n",
    "            print(\"*\",end='')\n",
    "            i=i+1\n",
    "            j=j-1\n",
    "        else:\n",
    "            print(end=\" \")\n",
    "    print()"
   ]
  },
  {
   "cell_type": "code",
   "execution_count": 235,
   "metadata": {},
   "outputs": [
    {
     "name": "stdout",
     "output_type": "stream",
     "text": [
      "*     *\n",
      "*     *\n",
      "*     *\n",
      "*  *  *\n",
      "* * * *\n",
      "**   **\n",
      "*     *\n"
     ]
    }
   ],
   "source": [
    "#print W pattern in  \"*\"\n",
    "i=0\n",
    "j=12\n",
    "for row in range (7):\n",
    "    for col in range(7):\n",
    "        if col==0 or col==6 or col==3 and row==3 or col==4 and row==4 or col==5 and row==5 or col==6 and row==6 or row==5 and col==1 or row==4 and col==2:\n",
    "            print(\"*\",end=\"\")\n",
    "        else:\n",
    "            print(end=\" \")\n",
    "    print()"
   ]
  },
  {
   "cell_type": "code",
   "execution_count": 238,
   "metadata": {},
   "outputs": [
    {
     "name": "stdout",
     "output_type": "stream",
     "text": [
      "*     *\n",
      " *   * \n",
      "  * *  \n",
      "   *   \n",
      "  * *  \n",
      " *   * \n",
      "*     *\n"
     ]
    }
   ],
   "source": [
    "#print X pattern in  \"*\"\n",
    "i=0\n",
    "j=6\n",
    "for row in range (7):\n",
    "    for col in range(7):\n",
    "        if col==row or row==4 and col==2 or row==5 and col==1 or row==6 and col==0 :\n",
    "            print(\"*\",end=\"\")\n",
    "        elif row==i and col==j:\n",
    "            print(\"*\",end=\"\")\n",
    "            i=i+1\n",
    "            j=j-1\n",
    "        else:\n",
    "            print(end=\" \")\n",
    "    print()"
   ]
  },
  {
   "cell_type": "code",
   "execution_count": 243,
   "metadata": {},
   "outputs": [
    {
     "name": "stdout",
     "output_type": "stream",
     "text": [
      "*     *\n",
      " *   * \n",
      "  * *  \n",
      "   *   \n",
      "   *   \n",
      "   *   \n",
      "   *   \n"
     ]
    }
   ],
   "source": [
    "#print Y pattern in  \"*\"\n",
    "for row in range (7):\n",
    "    for col in range(7):\n",
    "        if col==3 and row>2 or row==col and row<3 or row==0 and col==6 or row==1 and col==5 or row==2 and col==4  :\n",
    "            print(\"*\",end=\"\")\n",
    "        else:\n",
    "            print(end=\" \")\n",
    "    print()"
   ]
  },
  {
   "cell_type": "code",
   "execution_count": 278,
   "metadata": {},
   "outputs": [
    {
     "name": "stdout",
     "output_type": "stream",
     "text": [
      "******\n",
      "    * \n",
      "   *  \n",
      "  *   \n",
      " *    \n",
      "******\n"
     ]
    }
   ],
   "source": [
    "#print Z pattern in  \"*\"\n",
    "i=1\n",
    "j=4\n",
    "for row in range (0,6):\n",
    "    \n",
    "    for col in range(0,6):\n",
    "        if row==0 or row==5:\n",
    "            print(\"*\",end=\"\")\n",
    "        elif row==i and col==j:\n",
    "            print(\"*\",end=\"\")\n",
    "            i=i+1\n",
    "            j=j-1\n",
    "        else:\n",
    "            print(end=\" \")\n",
    "    print()\n",
    "            \n",
    "            "
   ]
  },
  {
   "cell_type": "code",
   "execution_count": 268,
   "metadata": {},
   "outputs": [
    {
     "name": "stdout",
     "output_type": "stream",
     "text": [
      " ***** \n",
      "*     *\n",
      "*     *\n",
      "*     *\n",
      "*     *\n",
      "*     *\n",
      " ***** \n"
     ]
    }
   ],
   "source": [
    "#print 0 pattern in  \"*\"\n",
    "for row in range (7):\n",
    "    for col in range(7):\n",
    "        if (col==0 and row>0 and row<6) or (col==6 and row>0 and row<6) or (row==0 and col!=0 and col!=6) or (row==6 and col!=0 and col!=6)   : \n",
    "            print(\"*\",end=\"\")\n",
    "        else:\n",
    "            print(end=\" \")\n",
    "    print()"
   ]
  },
  {
   "cell_type": "code",
   "execution_count": 244,
   "metadata": {},
   "outputs": [
    {
     "name": "stdout",
     "output_type": "stream",
     "text": [
      "  *  \n",
      " **  \n",
      "* *  \n",
      "  *  \n",
      "  *  \n",
      "  *  \n",
      "  *  \n",
      "*****\n"
     ]
    }
   ],
   "source": [
    "#print 1 pattern in  \"*\"\n",
    "for row in range (8):\n",
    "    for col in range(5):\n",
    "        if col==2 or row==7 or col==1 and row==1 or col==0 and row== 2   :\n",
    "            print(\"*\",end=\"\")\n",
    "        else:\n",
    "            print(end=\" \")\n",
    "    print()"
   ]
  },
  {
   "cell_type": "code",
   "execution_count": 255,
   "metadata": {},
   "outputs": [
    {
     "name": "stdout",
     "output_type": "stream",
     "text": [
      " *****   \n",
      "      *  \n",
      "      *  \n",
      "      *  \n",
      "   ******\n"
     ]
    }
   ],
   "source": [
    "#print 2 pattern in  \"*\"\n",
    "for row in range (5):\n",
    "    for col in range(9):\n",
    "        if col==6 and row!=0  and row!=4 or row==0 and col!=0 and col<6 or row==4 and col>2 :\n",
    "            print(\"*\",end=\"\")\n",
    "        else:\n",
    "            print(end=\" \")\n",
    "    print()"
   ]
  },
  {
   "cell_type": "code",
   "execution_count": 262,
   "metadata": {},
   "outputs": [
    {
     "name": "stdout",
     "output_type": "stream",
     "text": [
      "**** \n",
      "    *\n",
      "    *\n",
      "  ***\n",
      "    *\n",
      "    *\n",
      "**** \n"
     ]
    }
   ],
   "source": [
    "#print 3 pattern in  \"*\"\n",
    "for row in range (7):\n",
    "    for col in range(5):\n",
    "        if col==4 and row!=0 and row!=6 or row==0 and col!=4 or row==6 and col!=4 or row==3 and col>1 :\n",
    "            print(\"*\",end=\"\")\n",
    "        else:\n",
    "            print(end=\" \")\n",
    "    print()"
   ]
  },
  {
   "cell_type": "code",
   "execution_count": 298,
   "metadata": {},
   "outputs": [
    {
     "name": "stdout",
     "output_type": "stream",
     "text": [
      "    *  \n",
      "   **  \n",
      "  * *  \n",
      " *  *  \n",
      "*******\n",
      "    *  \n",
      "    *  \n"
     ]
    }
   ],
   "source": [
    "#print 4 pattern in  \"*\"\n",
    "for row in range (7):\n",
    "    for col in range(7):\n",
    "        if col==3 and row==1 or col==2 and row==2 or row==3 and col==1 or  row==4 or col==4  :\n",
    "            print(\"*\",end=\"\")\n",
    "        else:\n",
    "            print(end=\" \")\n",
    "    print()"
   ]
  },
  {
   "cell_type": "code",
   "execution_count": 294,
   "metadata": {},
   "outputs": [
    {
     "name": "stdout",
     "output_type": "stream",
     "text": [
      "*****\n",
      "*    \n",
      "*    \n",
      "**** \n",
      "    *\n",
      "    *\n",
      "**** \n"
     ]
    }
   ],
   "source": [
    "#print 5 pattern in  \"*\"\n",
    "for row in range (7):\n",
    "    for col in range(5):\n",
    "        if col==0 and row!=4 and row!=5 or row==0 or row==3 and col!=4 or  row==6 and col!=4 or col==4 and row>3 and row!=6 :\n",
    "            print(\"*\",end=\"\")\n",
    "        else:\n",
    "            print(end=\" \")\n",
    "    print()"
   ]
  },
  {
   "cell_type": "code",
   "execution_count": 291,
   "metadata": {},
   "outputs": [
    {
     "name": "stdout",
     "output_type": "stream",
     "text": [
      " **** \n",
      "*     \n",
      "*     \n",
      "*     \n",
      "***** \n",
      "*    *\n",
      "*    *\n",
      " **** \n"
     ]
    }
   ],
   "source": [
    "#print 6 pattern in  \"*\"\n",
    "for row in range (8):\n",
    "    for col in range(6):\n",
    "        if col==0 and row!=0 and row!=7 or row==0 and col!=5 and col!=0 or row==4 and col!=5 or row==7 and col!=5 and col!=0 or  row==5 and col==5 or row==6 and col==5  :\n",
    "            print(\"*\",end=\"\")\n",
    "        else:\n",
    "            print(end=\" \")\n",
    "    print()"
   ]
  },
  {
   "cell_type": "code",
   "execution_count": 325,
   "metadata": {},
   "outputs": [
    {
     "name": "stdout",
     "output_type": "stream",
     "text": [
      "*******\n",
      "      *\n",
      "      *\n",
      "      *\n",
      "      *\n",
      "      *\n",
      "      *\n",
      "      *\n"
     ]
    }
   ],
   "source": [
    "#print 7 pattern in  \"*\"\n",
    "for row in range (8):\n",
    "    for col in range(7):\n",
    "        if col==6 or row==0  :\n",
    "            print(\"*\",end=\"\")\n",
    "        else:\n",
    "            print(end=\" \")\n",
    "    print()"
   ]
  },
  {
   "cell_type": "code",
   "execution_count": 279,
   "metadata": {},
   "outputs": [
    {
     "name": "stdout",
     "output_type": "stream",
     "text": [
      " ***** \n",
      "*     *\n",
      "*     *\n",
      "*******\n",
      "*     *\n",
      "*     *\n",
      " ***** \n"
     ]
    }
   ],
   "source": [
    "#print 8 pattern in  \"*\"\n",
    "for row in range (7):\n",
    "    for col in range(7):\n",
    "        if (col==0 and row>0 and row<6) or (col==6 and row>0 and row<6) or (row==0 and col!=0 and col!=6) or (row==6 and col!=0 and col!=6 or row==3)   : \n",
    "            print(\"*\",end=\"\")\n",
    "        else:\n",
    "            print(end=\" \")\n",
    "    print()"
   ]
  },
  {
   "cell_type": "code",
   "execution_count": 277,
   "metadata": {},
   "outputs": [
    {
     "name": "stdout",
     "output_type": "stream",
     "text": [
      " ***** \n",
      "*     *\n",
      "*     *\n",
      " ******\n",
      "      *\n",
      "      *\n",
      "      *\n"
     ]
    }
   ],
   "source": [
    "#print 9 pattern in  \"*\"\n",
    "\n",
    "for row in range (7):\n",
    "    for col in range(7):\n",
    "        if col==6 and row!=0  or row==0 and col!=6 and col!=0 or col==0 and row<3 and row!=0 and row!=0 or row==3 and col!=0 and col!=6:\n",
    "            print(\"*\",end=\"\")\n",
    "        else:\n",
    "            print(end=\" \")\n",
    "    print()"
   ]
  },
  {
   "cell_type": "code",
   "execution_count": 312,
   "metadata": {},
   "outputs": [
    {
     "name": "stdout",
     "output_type": "stream",
     "text": [
      " ****      \n",
      "*    *     \n",
      "*    *     \n",
      " **** *    \n",
      "       *   \n",
      "           \n",
      "           \n"
     ]
    }
   ],
   "source": [
    "#print \"a\" pattern in  \"*\"\n",
    "for row in range (7):\n",
    "    for col in range(11):\n",
    "        if col==0 and row!=0 and row<3 or row==0 and col!=0 and col<5 or col==5 and row!=0 and row<3 or col==6 and row ==3 or col==7 and row==4   or row==3 and col!=0 and col<5 :\n",
    "            print(\"*\",end=\"\")\n",
    "        else:\n",
    "            print(end=\" \")\n",
    "    print()"
   ]
  },
  {
   "cell_type": "code",
   "execution_count": 314,
   "metadata": {},
   "outputs": [
    {
     "name": "stdout",
     "output_type": "stream",
     "text": [
      "     \n",
      "*    \n",
      "*    \n",
      "*    \n",
      "*    \n",
      "**** \n",
      "*   *\n",
      "*   *\n",
      "**** \n"
     ]
    }
   ],
   "source": [
    "#print \"b\" pattern in  \"*\"\n",
    "for row in range (9):\n",
    "    for col in range(5):\n",
    "        if col==0 and row!=0 or row==5 and col!=4 or row==8 and col!=0 and col!=4 or col==4 and row!=5 and row!=8 and row>5:\n",
    "            print(\"*\",end=\"\")\n",
    "        else:\n",
    "            print(end=\" \")\n",
    "    print()"
   ]
  },
  {
   "cell_type": "code",
   "execution_count": 315,
   "metadata": {},
   "outputs": [
    {
     "name": "stdout",
     "output_type": "stream",
     "text": [
      " ****\n",
      "*    \n",
      "*    \n",
      "*    \n",
      "*    \n",
      " ****\n"
     ]
    }
   ],
   "source": [
    "#print \"c\" pattern in  \"*\"\n",
    "for row in range (6):\n",
    "    for col in range(5):\n",
    "        if ((col==0 and row!=0 and row!=5) or col==5) or ((row==0 and col!=0) or (row==5 and col!=0)):\n",
    "            print(\"*\",end=\"\")\n",
    "        else:\n",
    "            print(end=\" \")\n",
    "    print()"
   ]
  },
  {
   "cell_type": "code",
   "execution_count": 322,
   "metadata": {},
   "outputs": [
    {
     "name": "stdout",
     "output_type": "stream",
     "text": [
      "    *\n",
      "    *\n",
      "    *\n",
      "    *\n",
      " ****\n",
      "*   *\n",
      "*   *\n",
      " ****\n"
     ]
    }
   ],
   "source": [
    "#print \"d\" pattern in  \"*\"\n",
    "for row in range (8):\n",
    "    for col in range(5):\n",
    "        if col==4  or row==4 and col!=0  or col==0 and row>4 and row<7 or row==7 and col!=0 and col!=4 :\n",
    "            print(\"*\",end=\"\")\n",
    "        else:\n",
    "            print(end=\" \")\n",
    "    print()"
   ]
  },
  {
   "cell_type": "code",
   "execution_count": 338,
   "metadata": {},
   "outputs": [
    {
     "name": "stdout",
     "output_type": "stream",
     "text": [
      "  *****\n",
      " *     \n",
      " *     \n",
      "***    \n",
      " *     \n",
      " *     \n",
      " *     \n"
     ]
    }
   ],
   "source": [
    "#print \"f\" pattern in  \"*\"\n",
    "for row in range (7):\n",
    "    for col in range(7):\n",
    "        if col==1 and row!=0  or row==0 and col!=0 and col!=1 or row==3 and col<3  :\n",
    "            print(\"*\",end=\"\")\n",
    "        else:\n",
    "            print(end=\" \")\n",
    "    print()"
   ]
  },
  {
   "cell_type": "code",
   "execution_count": 344,
   "metadata": {},
   "outputs": [
    {
     "name": "stdout",
     "output_type": "stream",
     "text": [
      " *** \n",
      "*   *\n",
      "*   *\n",
      " ****\n",
      "    *\n",
      " *  *\n",
      " *  *\n",
      "  ** \n"
     ]
    }
   ],
   "source": [
    "#print \"g\" pattern in  \"*\"\n",
    "for row in range (8):\n",
    "    for col in range(5):\n",
    "        if col==4 and row!=0 and row!=7 or row==0 and col!=0 and col!=4 or row==3 and col!=0 or col==0 and row>0 and row<3 or row==7 and col>1 and col!=4 or col==1 and row>4 and row!=7:\n",
    "            print(\"*\",end=\"\")\n",
    "        else:\n",
    "            print(end=\" \")\n",
    "    print()"
   ]
  },
  {
   "cell_type": "code",
   "execution_count": 347,
   "metadata": {},
   "outputs": [
    {
     "name": "stdout",
     "output_type": "stream",
     "text": [
      "*      \n",
      "*      \n",
      "*      \n",
      "*      \n",
      "* **** \n",
      "*     *\n",
      "*     *\n",
      "*     *\n"
     ]
    }
   ],
   "source": [
    "#print \"h\" pattern in  \"*\"\n",
    "for row in range (8):\n",
    "    for col in range(7):\n",
    "        if col==0 or row==4 and col!=6 and col!=1 or col==6 and row>4  :\n",
    "            print(\"*\",end=\"\")\n",
    "        else:\n",
    "            print(end=\" \")\n",
    "    print()\n"
   ]
  },
  {
   "cell_type": "code",
   "execution_count": 349,
   "metadata": {},
   "outputs": [
    {
     "name": "stdout",
     "output_type": "stream",
     "text": [
      "*      \n",
      "       \n",
      "*      \n",
      "*      \n",
      "*      \n",
      "*      \n",
      "*      \n",
      "*      \n"
     ]
    }
   ],
   "source": [
    "#print \"i\" pattern in  \"*\"\n",
    "for row in range (8):\n",
    "    for col in range(7):\n",
    "        if col==0 and row!=1  :\n",
    "            print(\"*\",end=\"\")\n",
    "        else:\n",
    "            print(end=\" \")\n",
    "    print()\n"
   ]
  },
  {
   "cell_type": "code",
   "execution_count": 353,
   "metadata": {},
   "outputs": [
    {
     "name": "stdout",
     "output_type": "stream",
     "text": [
      "      *\n",
      "       \n",
      "      *\n",
      "      *\n",
      "      *\n",
      "      *\n",
      "      *\n",
      "      *\n",
      "****** \n"
     ]
    }
   ],
   "source": [
    "#print \"j\" pattern in  \"*\"\n",
    "for row in range (9):\n",
    "    for col in range(7):\n",
    "        if col==6 and row!=8 and row!=1  or row==8 and col!=6  :\n",
    "            print(\"*\",end=\"\")\n",
    "        else:\n",
    "            print(end=\" \")\n",
    "    print()\n"
   ]
  },
  {
   "cell_type": "code",
   "execution_count": 354,
   "metadata": {},
   "outputs": [
    {
     "name": "stdout",
     "output_type": "stream",
     "text": [
      "*       *\n",
      "*     *  \n",
      "*   *    \n",
      "* *      \n",
      "*        \n",
      "*  *     \n",
      "*   *    \n",
      "*    *   \n",
      "*     *  \n",
      "*      * \n",
      "*       *\n"
     ]
    }
   ],
   "source": [
    "#print \"k\" pattern in  \"*\"\n",
    "i=8\n",
    "for row in range (11):\n",
    "    for col in range(9):\n",
    "        if col==0 or (row==col+2 and col>1 and row>4)  :\n",
    "            print(\"*\",end=\"\")\n",
    "        elif row==i-col:\n",
    "            print(\"*\",end=\"\")\n",
    "            i=i-1\n",
    "        else:\n",
    "            print(end=\" \")\n",
    "    print()"
   ]
  },
  {
   "cell_type": "code",
   "execution_count": 359,
   "metadata": {},
   "outputs": [
    {
     "name": "stdout",
     "output_type": "stream",
     "text": [
      "    *\n",
      "    *\n",
      "    *\n",
      "    *\n",
      "    *\n",
      "    *\n",
      "    *\n",
      "    *\n",
      "    *\n"
     ]
    }
   ],
   "source": [
    "#print \"l\" pattern in  \"*\"\n",
    "for row in range (9):\n",
    "    for col in range(5):\n",
    "        if col==4   :\n",
    "            print(\"*\",end=\"\")\n",
    "        else:\n",
    "            print(end=\" \")\n",
    "    print()\n"
   ]
  },
  {
   "cell_type": "code",
   "execution_count": 361,
   "metadata": {},
   "outputs": [
    {
     "name": "stdout",
     "output_type": "stream",
     "text": [
      " *** *** \n",
      "*   *   *\n",
      "*   *   *\n",
      "*       *\n",
      "*       *\n",
      "*       *\n"
     ]
    }
   ],
   "source": [
    "#print \"m\" pattern in  \"*\"\n",
    "for row in range (6):\n",
    "    for col in range(9):\n",
    "        if col==0 and row!=0 or col==4 and row!=0 and row<3 or col==8 and row!=0 or row==0 and col!=0 and col!=4 and col!=8     :\n",
    "            print(\"*\",end=\"\")\n",
    "        else:\n",
    "            print(end=\" \")\n",
    "    print()\n"
   ]
  },
  {
   "cell_type": "code",
   "execution_count": 364,
   "metadata": {},
   "outputs": [
    {
     "name": "stdout",
     "output_type": "stream",
     "text": [
      " ******* \n",
      "*       *\n",
      "*       *\n",
      "*       *\n",
      "*       *\n",
      "*       *\n",
      "*       *\n",
      "*       *\n"
     ]
    }
   ],
   "source": [
    "#print \"n\" pattern in  \"*\"\n",
    "for row in range (8):\n",
    "    for col in range(9):\n",
    "        if col==0 and row!=0 or col==8 and row!=0 or row==0 and col!=0 and col!=8   :\n",
    "            print(\"*\",end=\"\")\n",
    "        else:\n",
    "            print(end=\" \")\n",
    "    print()\n"
   ]
  },
  {
   "cell_type": "code",
   "execution_count": 365,
   "metadata": {},
   "outputs": [
    {
     "name": "stdout",
     "output_type": "stream",
     "text": [
      " ***** \n",
      "*     *\n",
      "*     *\n",
      "*     *\n",
      "*     *\n",
      "*     *\n",
      " ***** \n"
     ]
    }
   ],
   "source": [
    "#print \"o\" pattern in  \"*\"\n",
    "for row in range (7):\n",
    "    for col in range(7):\n",
    "        if (col==0 and row>0 and row<6) or (col==6 and row>0 and row<6) or (row==0 and col!=0 and col!=6) or (row==6 and col!=0 and col!=6) : \n",
    "            print(\"*\",end=\"\")\n",
    "        else:\n",
    "            print(end=\" \")\n",
    "    print()"
   ]
  },
  {
   "cell_type": "code",
   "execution_count": 366,
   "metadata": {},
   "outputs": [
    {
     "name": "stdout",
     "output_type": "stream",
     "text": [
      " ***** \n",
      "*     *\n",
      "*     *\n",
      "* **** \n",
      "*      \n",
      "*      \n",
      "*      \n"
     ]
    }
   ],
   "source": [
    "#print \"p\" pattern in  \"*\"\n",
    "for row in range (7):\n",
    "    for col in range(7):\n",
    "        if col==0 and row!=0 or col==6 and row!=0 and row!=3 and row<4 or row==3 and col!=6 and col!=1 or row==0 and col!=0 and col!=6 :\n",
    "            print(\"*\",end=\"\")\n",
    "        else:\n",
    "            print(end=\" \")\n",
    "    print()"
   ]
  },
  {
   "cell_type": "code",
   "execution_count": 368,
   "metadata": {},
   "outputs": [
    {
     "name": "stdout",
     "output_type": "stream",
     "text": [
      " ***   \n",
      "*   *  \n",
      "*   *  \n",
      "*   *  \n",
      " ****  \n",
      "    *  \n",
      "    *  \n",
      "    * *\n",
      "    ** \n",
      "    *  \n"
     ]
    }
   ],
   "source": [
    "#print \"q\" pattern in  \"*\"\n",
    "for row in range (10):\n",
    "    for col in range(7):\n",
    "        if col==0 and row!=0 and row<4 or col==4 and row!=0 or row==0 and col!=0 and col<4 or row==4 and col!=0 and col<4 or row==8 and col==5 or row==7 and col==6   :\n",
    "            print(\"*\",end=\"\")\n",
    "        else:\n",
    "            print(end=\" \")\n",
    "    print()"
   ]
  },
  {
   "cell_type": "code",
   "execution_count": 369,
   "metadata": {},
   "outputs": [
    {
     "name": "stdout",
     "output_type": "stream",
     "text": [
      "*  *\n",
      "* * \n",
      "**  \n",
      "*   \n",
      "*   \n",
      "*   \n",
      "*   \n",
      "*   \n",
      "*   \n"
     ]
    }
   ],
   "source": [
    "#print \"r\" pattern in  \"*\"\n",
    "for row in range (9):\n",
    "    for col in range(4):\n",
    "        if col==0 or  row==2 and col==1 or row==1 and col==2 or row==0 and col==3:\n",
    "            print(\"*\",end=\"\")\n",
    "        else:\n",
    "            print(end=\" \")\n",
    "    print()\n"
   ]
  },
  {
   "cell_type": "code",
   "execution_count": 370,
   "metadata": {},
   "outputs": [
    {
     "name": "stdout",
     "output_type": "stream",
     "text": [
      " ***** \n",
      "*      \n",
      "*      \n",
      " ***** \n",
      "      *\n",
      "      *\n",
      " ***** \n"
     ]
    }
   ],
   "source": [
    "#print \"s\" pattern in  \"*\"\n",
    "for row in range (7):\n",
    "    for col in range(7):\n",
    "        if col==0 and  row!=0 and row<3 or col==6 and row!=6 and row>3 or row==0 and col!=0 and col!=6 or row==3 and col!=0 and col!=6 or row==6 and col!=0 and col!=6 :\n",
    "            print(\"*\",end=\"\")\n",
    "        else:\n",
    "            print(end=\" \")\n",
    "    print()"
   ]
  },
  {
   "cell_type": "code",
   "execution_count": 371,
   "metadata": {},
   "outputs": [
    {
     "name": "stdout",
     "output_type": "stream",
     "text": [
      "  *  \n",
      "  *  \n",
      "*****\n",
      "  *  \n",
      "  *  \n",
      "  *  \n",
      "  *  \n",
      "  *  \n",
      "  *  \n"
     ]
    }
   ],
   "source": [
    "#print \"t\" pattern in  \"*\"\n",
    "for row in range (9):\n",
    "    for col in range(5):\n",
    "        if col==2 or row==2:\n",
    "            print(\"*\",end=\"\")\n",
    "        else:\n",
    "            print(end=\" \")\n",
    "    print()\n"
   ]
  },
  {
   "cell_type": "code",
   "execution_count": 392,
   "metadata": {},
   "outputs": [
    {
     "name": "stdout",
     "output_type": "stream",
     "text": [
      "*     *  \n",
      "*     *  \n",
      "*     *  \n",
      "*     *  \n",
      "*     *  \n",
      "*     *  \n",
      " ***** * \n",
      "        *\n",
      "         \n"
     ]
    }
   ],
   "source": [
    "#print \"u\" pattern in  \"*\"\n",
    "for row in range (9):\n",
    "    for col in range(9):\n",
    "        if col==0 and row!=6 and row<6 or col==6 and row!=6 and row<6 or row==6 and col!=0 and col!=6 and col!=8 or col==8 and row==7  :\n",
    "            print(\"*\",end=\"\")\n",
    "        else:\n",
    "            print(end=\" \")\n",
    "    print()"
   ]
  },
  {
   "cell_type": "code",
   "execution_count": 393,
   "metadata": {},
   "outputs": [
    {
     "name": "stdout",
     "output_type": "stream",
     "text": [
      "*           *\n",
      " *         * \n",
      "  *       *  \n",
      "   *     *   \n",
      "    *   *    \n",
      "     * *     \n",
      "      *      \n"
     ]
    }
   ],
   "source": [
    "#print \"v\" pattern in  \"*\"\n",
    "i=0\n",
    "j=12\n",
    "for row in range (7):\n",
    "    for col in range(13):\n",
    "        if (row==col):\n",
    "            print(\"*\",end=\"\")\n",
    "        elif row==i and col==j:\n",
    "            print(\"*\",end='')\n",
    "            i=i+1\n",
    "            j=j-1\n",
    "        else:\n",
    "            print(end=\" \")\n",
    "    print()"
   ]
  },
  {
   "cell_type": "code",
   "execution_count": 395,
   "metadata": {},
   "outputs": [
    {
     "name": "stdout",
     "output_type": "stream",
     "text": [
      "*        *\n",
      "*        *\n",
      "*        *\n",
      "*        *\n",
      "*        *\n",
      "*   *    *\n",
      "*   *    *\n",
      "*   *    *\n",
      " *** **** \n"
     ]
    }
   ],
   "source": [
    "#print \"w\" pattern in  \"*\"\n",
    "for row in range (9):\n",
    "    for col in range(10):\n",
    "        if col==0 and row!=8 or col==9 and row!=8 or row==5 and col==4 or row==6 and col==4 or row==7 and col==4 or row==8 and col!=0 and col!=4 and col!=9:\n",
    "            print(\"*\",end=\"\")\n",
    "        else:\n",
    "            print(end=\" \")\n",
    "    print()\n"
   ]
  },
  {
   "cell_type": "code",
   "execution_count": 396,
   "metadata": {},
   "outputs": [
    {
     "name": "stdout",
     "output_type": "stream",
     "text": [
      "*     *\n",
      " *   * \n",
      "  * *  \n",
      "   *   \n",
      "  * *  \n",
      " *   * \n",
      "*     *\n"
     ]
    }
   ],
   "source": [
    "#print \"x\" pattern in  \"*\"\n",
    "i=0\n",
    "j=6\n",
    "for row in range (7):\n",
    "    for col in range(7):\n",
    "        if col==row or row==4 and col==2 or row==5 and col==1 or row==6 and col==0 :\n",
    "            print(\"*\",end=\"\")\n",
    "        elif row==i and col==j:\n",
    "            print(\"*\",end=\"\")\n",
    "            i=i+1\n",
    "            j=j-1\n",
    "        else:\n",
    "            print(end=\" \")\n",
    "    print()"
   ]
  },
  {
   "cell_type": "code",
   "execution_count": 397,
   "metadata": {},
   "outputs": [
    {
     "name": "stdout",
     "output_type": "stream",
     "text": [
      "*   *\n",
      " *  *\n",
      "  * *\n",
      "   **\n",
      "    *\n",
      "    *\n",
      "    *\n",
      "    *\n"
     ]
    }
   ],
   "source": [
    "#print \"y\" pattern in  \"*\"\n",
    "for row in range (8):\n",
    "    for col in range(5):\n",
    "        if col==4 or row==0 and col==0 or row==1 and col==1 or row==2 and col==2 or row==3 and col==3:\n",
    "            print(\"*\",end=\"\")\n",
    "        else:\n",
    "            print(end=\" \")\n",
    "    print()\n"
   ]
  },
  {
   "cell_type": "code",
   "execution_count": 399,
   "metadata": {},
   "outputs": [
    {
     "name": "stdout",
     "output_type": "stream",
     "text": [
      " *****   \n",
      "      *  \n",
      "      *  \n",
      "      *  \n",
      "   ******\n"
     ]
    }
   ],
   "source": [
    "#print \"z\" pattern in  \"*\"\n",
    "for row in range (5):\n",
    "    for col in range(9):\n",
    "        if col==6 and row!=0  and row!=4 or row==0 and col!=0 and col<6 or row==4 and col>2 :\n",
    "            print(\"*\",end=\"\")\n",
    "        else:\n",
    "            print(end=\" \")\n",
    "    print()"
   ]
  },
  {
   "cell_type": "code",
   "execution_count": null,
   "metadata": {},
   "outputs": [],
   "source": []
  }
 ],
 "metadata": {
  "celltoolbar": "Raw Cell Format",
  "kernelspec": {
   "display_name": "Python 3",
   "language": "python",
   "name": "python3"
  },
  "language_info": {
   "codemirror_mode": {
    "name": "ipython",
    "version": 3
   },
   "file_extension": ".py",
   "mimetype": "text/x-python",
   "name": "python",
   "nbconvert_exporter": "python",
   "pygments_lexer": "ipython3",
   "version": "3.7.6"
  }
 },
 "nbformat": 4,
 "nbformat_minor": 4
}
