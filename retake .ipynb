{
 "cells": [
  {
   "cell_type": "code",
   "execution_count": 120,
   "metadata": {},
   "outputs": [
    {
     "name": "stdout",
     "output_type": "stream",
     "text": [
      "enter row range=14\n",
      "enter col range=14\n",
      "*      *      \n",
      "*      *      \n",
      "*      *      \n",
      "*  *   *      \n",
      "*  **  *      \n",
      "* *  * *      \n",
      "**    **      \n",
      "*      *      \n",
      "              \n",
      "              \n",
      "              \n",
      "              \n",
      "              \n",
      "              \n"
     ]
    }
   ],
   "source": [
    "a=int(input(\"enter row range=\"))\n",
    "b=int(input(\"enter col range=\"))\n",
    "\n",
    "for row in range(a):\n",
    "    for col in range(b):\n",
    "        if  row+col ==int(a/2)  and row>int(a/2)/2 or row==col and row<int(a/2)+1 and row>int(a/2)/2-1 or col==0 and row<int(a/2) or col==int(b/2) and row<int(a/2):# if  row+col ==int(a/2) or row==col and row<int(a/2)+1:\n",
    "            print(\"*\", end=\"\")\n",
    "        else:\n",
    "            print(end=\" \")\n",
    "    print()"
   ]
  },
  {
   "cell_type": "code",
   "execution_count": 101,
   "metadata": {},
   "outputs": [
    {
     "name": "stdout",
     "output_type": "stream",
     "text": [
      "******\n",
      "    * \n",
      "   *  \n",
      "  *   \n",
      " *    \n",
      "******\n"
     ]
    }
   ],
   "source": [
    "#print Z pattern in  \"*\"\n",
    "i=1\n",
    "j=4\n",
    "for row in range (0,6):\n",
    "    \n",
    "    for col in range(0,6):\n",
    "        if row==0 or row==5:\n",
    "            print(\"*\",end=\"\")\n",
    "        elif row==i and col==j:\n",
    "            print(\"*\",end=\"\")\n",
    "            i=i+1\n",
    "            j=j-1\n",
    "        else:\n",
    "            print(end=\" \")\n",
    "    print()\n",
    "            \n",
    "            "
   ]
  },
  {
   "cell_type": "code",
   "execution_count": 51,
   "metadata": {},
   "outputs": [
    {
     "name": "stdout",
     "output_type": "stream",
     "text": [
      "enter row range=8\n",
      "enter col range=8\n",
      "*****   \n",
      "   *    \n",
      "  *     \n",
      " *      \n",
      "****    \n",
      "        \n",
      "        \n",
      "        \n"
     ]
    }
   ],
   "source": [
    "a=int(input(\"enter row range=\"))\n",
    "b=int(input(\"enter col range=\"))\n",
    "for row in range (a):\n",
    "    for col in range(b):\n",
    "        if row==0  and col<int(b/2) or row+col==int(b/2) or row==int(a/2) and col<int(b/2):\n",
    "            print(\"*\",end=\"\")\n",
    "        else:\n",
    "            print(end=\" \")\n",
    "    print()\n"
   ]
  },
  {
   "cell_type": "code",
   "execution_count": 26,
   "metadata": {},
   "outputs": [
    {
     "name": "stdout",
     "output_type": "stream",
     "text": [
      "enter row range=9\n",
      "enter col range=9\n",
      "*       *\n",
      "*       *\n",
      "*       *\n",
      "*       *\n",
      "*       *\n",
      "*   *   *\n",
      "*   *   *\n",
      "*   *   *\n",
      " *** *** \n"
     ]
    }
   ],
   "source": [
    "a=int(input(\"enter row range=\"))\n",
    "b=int(input(\"enter col range=\"))\n",
    "\n",
    "for row in range (a):\n",
    "    for col in range(b):\n",
    "        if col==0 and row!=a-1 or col==b-1 and row!=a-1 or row==a-1 and col!=0 and col!=b-1 and col!=int(b/2) or col==int(a/2) and row>int(a/2) and row!=a-1:\n",
    "            print(\"*\",end=\"\")\n",
    "        else:\n",
    "            print(end=\" \")\n",
    "    print()"
   ]
  },
  {
   "cell_type": "code",
   "execution_count": 56,
   "metadata": {},
   "outputs": [
    {
     "name": "stdout",
     "output_type": "stream",
     "text": [
      "enter row range=5\n",
      "enter col range=5\n",
      " **  \n",
      "*  * \n",
      "*  * \n",
      " *** \n",
      "   * \n"
     ]
    }
   ],
   "source": [
    "a=int(input(\"enter row range=\"))\n",
    "b=int(input(\"enter col range=\"))\n",
    "for row in range(a):\n",
    "    for col in range(b):\n",
    "        if col == 0 and row!=a-2 and row!=a-1 and row!=0 or col == b-2 and row!=a-2 and row!=0 or row==a-2 and col!=0 and col!=a-1  or row==0 and col!=0 and col!=b-2 and col!=b-1 :\n",
    "            print(\"*\", end=\"\")\n",
    "        else:\n",
    "            print(end=\" \")\n",
    "    print()"
   ]
  },
  {
   "cell_type": "code",
   "execution_count": 57,
   "metadata": {},
   "outputs": [
    {
     "name": "stdout",
     "output_type": "stream",
     "text": [
      " *******  \n",
      "*         \n",
      "*         \n",
      "*         \n",
      "*         \n",
      "*    *****\n",
      " *****   *\n",
      "         *\n",
      "         *\n"
     ]
    }
   ],
   "source": [
    "for row in range (9):\n",
    "    for col in range(10):\n",
    "        if (col==0 and row!=0 and row!=6 and row!=7 and row!=8) or (row==0 and col!=0 and col<8) or (row==6 and col!=0 and col!=6 and col<7)  or (row==5 and col>4 ) or (col==9 and row>5)  :\n",
    "            print(\"*\",end=\"\")\n",
    "        else:\n",
    "            print(end=\" \")\n",
    "    print()"
   ]
  },
  {
   "cell_type": "code",
   "execution_count": 64,
   "metadata": {},
   "outputs": [
    {
     "name": "stdout",
     "output_type": "stream",
     "text": [
      "enter row range=8\n",
      "enter col range=8\n",
      " *******\n",
      "*       \n",
      "*    ***\n",
      "*      *\n",
      " *******\n",
      "       *\n",
      "       *\n",
      "       *\n"
     ]
    }
   ],
   "source": [
    "a=int(input(\"enter row range=\"))\n",
    "b=int(input(\"enter col range=\"))\n",
    "for row in range (a):\n",
    "    for col in range(b):\n",
    "        if row==0 and col!=0 or col==0 and row<int(a/2)+1 and row!=0  and row!=int(a/2) or row==int(a/2) and col!=0 or row==int(a/2)-2 and col>int(b/2) or col==b-1 and row>int(a/2)-2:\n",
    "            print(\"*\",end=\"\")\n",
    "        else:\n",
    "            print(end=\" \")\n",
    "    print()\n"
   ]
  },
  {
   "cell_type": "code",
   "execution_count": 65,
   "metadata": {},
   "outputs": [
    {
     "name": "stdout",
     "output_type": "stream",
     "text": [
      "    ********\n",
      "         *  \n",
      "         *  \n",
      "         *  \n",
      "         *  \n",
      "         *  \n",
      "         *  \n",
      "*        *  \n",
      "*        *  \n",
      " *******    \n"
     ]
    }
   ],
   "source": [
    "#print J pattern in  \"*\"\n",
    "for row in range (10):\n",
    "    for col in range(12):\n",
    "        if (col==0 and row!=9 and row>6) or (col==9 and row!=9) or (row==9 and col!=0 and col<8 ) or (row==0 and col>3 ) :\n",
    "            print(\"*\",end=\"\")\n",
    "        else:\n",
    "            print(end=\" \")\n",
    "    print()"
   ]
  },
  {
   "cell_type": "code",
   "execution_count": 71,
   "metadata": {},
   "outputs": [
    {
     "name": "stdout",
     "output_type": "stream",
     "text": [
      "enter row range=7\n",
      "enter col range=7\n",
      "*******\n",
      "   *   \n",
      "   *   \n",
      "*  *   \n",
      "*  *   \n",
      "*  *   \n",
      " **    \n"
     ]
    }
   ],
   "source": [
    "a=int(input(\"enter row range=\"))\n",
    "b=int(input(\"enter col range=\"))\n",
    "for row in range (a):\n",
    "    for col in range(b):\n",
    "        if col==int(b/2) and row!=a-1 or row==0 or col==0 and row>int(a/2)-1 and row!=a-1 or row==a-1 and col!=0 and col!=b-1 and col<int(b/2):\n",
    "            print(\"*\",end=\"\")\n",
    "        else:\n",
    "            print(end=\" \")\n",
    "    print()\n"
   ]
  },
  {
   "cell_type": "code",
   "execution_count": null,
   "metadata": {},
   "outputs": [],
   "source": []
  }
 ],
 "metadata": {
  "kernelspec": {
   "display_name": "Python 3",
   "language": "python",
   "name": "python3"
  },
  "language_info": {
   "codemirror_mode": {
    "name": "ipython",
    "version": 3
   },
   "file_extension": ".py",
   "mimetype": "text/x-python",
   "name": "python",
   "nbconvert_exporter": "python",
   "pygments_lexer": "ipython3",
   "version": "3.7.6"
  }
 },
 "nbformat": 4,
 "nbformat_minor": 4
}
